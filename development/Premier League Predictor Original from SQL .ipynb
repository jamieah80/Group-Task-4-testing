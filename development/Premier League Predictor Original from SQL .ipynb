{
 "cells": [
  {
   "cell_type": "code",
   "execution_count": 45,
   "id": "49057053-1f25-49cc-bd77-cdf6c07e45b2",
   "metadata": {},
   "outputs": [],
   "source": [
    "#  Import relevant libraries\n",
    "\n",
    "import pandas as pd\n",
    "from sqlalchemy import create_engine\n",
    "import numpy as np\n",
    "import os\n",
    "from sklearn.model_selection import train_test_split\n",
    "from sklearn.preprocessing import StandardScaler, LabelEncoder, OneHotEncoder\n",
    "from sklearn.compose import ColumnTransformer\n",
    "from sklearn.pipeline import Pipeline\n",
    "from sklearn.ensemble import RandomForestClassifier\n",
    "from sklearn.metrics import classification_report, confusion_matrix\n",
    "import matplotlib.pyplot as plt"
   ]
  },
  {
   "cell_type": "code",
   "execution_count": 46,
   "id": "d12312ef-389b-4806-96cf-1f073f646944",
   "metadata": {},
   "outputs": [
    {
     "data": {
      "text/html": [
       "<div>\n",
       "<style scoped>\n",
       "    .dataframe tbody tr th:only-of-type {\n",
       "        vertical-align: middle;\n",
       "    }\n",
       "\n",
       "    .dataframe tbody tr th {\n",
       "        vertical-align: top;\n",
       "    }\n",
       "\n",
       "    .dataframe thead th {\n",
       "        text-align: right;\n",
       "    }\n",
       "</style>\n",
       "<table border=\"1\" class=\"dataframe\">\n",
       "  <thead>\n",
       "    <tr style=\"text-align: right;\">\n",
       "      <th></th>\n",
       "      <th>season_end</th>\n",
       "      <th>team</th>\n",
       "      <th>average_distance_to_away_games</th>\n",
       "      <th>squad_value</th>\n",
       "      <th>net_summer_transfer_spend</th>\n",
       "      <th>retained_manager</th>\n",
       "      <th>average_attendance</th>\n",
       "      <th>wage_bill</th>\n",
       "      <th>retained_captain</th>\n",
       "      <th>previous_season_disciplinary_points</th>\n",
       "      <th>net_number_of_transfers</th>\n",
       "      <th>previous_season_goal_difference</th>\n",
       "      <th>previous_season_position</th>\n",
       "      <th>position_bin</th>\n",
       "    </tr>\n",
       "  </thead>\n",
       "  <tbody>\n",
       "    <tr>\n",
       "      <th>0</th>\n",
       "      <td>2019</td>\n",
       "      <td>Arsenal</td>\n",
       "      <td>371</td>\n",
       "      <td>580750000</td>\n",
       "      <td>71050000</td>\n",
       "      <td>False</td>\n",
       "      <td>59989</td>\n",
       "      <td>135360000</td>\n",
       "      <td>False</td>\n",
       "      <td>67</td>\n",
       "      <td>0</td>\n",
       "      <td>23</td>\n",
       "      <td>6</td>\n",
       "      <td>2</td>\n",
       "    </tr>\n",
       "    <tr>\n",
       "      <th>1</th>\n",
       "      <td>2020</td>\n",
       "      <td>Arsenal</td>\n",
       "      <td>163</td>\n",
       "      <td>604250000</td>\n",
       "      <td>107150000</td>\n",
       "      <td>True</td>\n",
       "      <td>60279</td>\n",
       "      <td>118540000</td>\n",
       "      <td>False</td>\n",
       "      <td>79</td>\n",
       "      <td>-3</td>\n",
       "      <td>22</td>\n",
       "      <td>5</td>\n",
       "      <td>1</td>\n",
       "    </tr>\n",
       "    <tr>\n",
       "      <th>2</th>\n",
       "      <td>2021</td>\n",
       "      <td>Arsenal</td>\n",
       "      <td>173</td>\n",
       "      <td>540800000</td>\n",
       "      <td>57140000</td>\n",
       "      <td>True</td>\n",
       "      <td>10000</td>\n",
       "      <td>147450000</td>\n",
       "      <td>True</td>\n",
       "      <td>108</td>\n",
       "      <td>5</td>\n",
       "      <td>8</td>\n",
       "      <td>8</td>\n",
       "      <td>1</td>\n",
       "    </tr>\n",
       "    <tr>\n",
       "      <th>3</th>\n",
       "      <td>2022</td>\n",
       "      <td>Arsenal</td>\n",
       "      <td>162</td>\n",
       "      <td>521000000</td>\n",
       "      <td>116250000</td>\n",
       "      <td>True</td>\n",
       "      <td>59763</td>\n",
       "      <td>114370000</td>\n",
       "      <td>False</td>\n",
       "      <td>68</td>\n",
       "      <td>4</td>\n",
       "      <td>16</td>\n",
       "      <td>8</td>\n",
       "      <td>2</td>\n",
       "    </tr>\n",
       "    <tr>\n",
       "      <th>4</th>\n",
       "      <td>2023</td>\n",
       "      <td>Arsenal</td>\n",
       "      <td>153</td>\n",
       "      <td>935000000</td>\n",
       "      <td>144080000</td>\n",
       "      <td>True</td>\n",
       "      <td>60186</td>\n",
       "      <td>101660000</td>\n",
       "      <td>False</td>\n",
       "      <td>72</td>\n",
       "      <td>1</td>\n",
       "      <td>13</td>\n",
       "      <td>5</td>\n",
       "      <td>2</td>\n",
       "    </tr>\n",
       "  </tbody>\n",
       "</table>\n",
       "</div>"
      ],
      "text/plain": [
       "  season_end     team  average_distance_to_away_games  squad_value  \\\n",
       "0       2019  Arsenal                             371    580750000   \n",
       "1       2020  Arsenal                             163    604250000   \n",
       "2       2021  Arsenal                             173    540800000   \n",
       "3       2022  Arsenal                             162    521000000   \n",
       "4       2023  Arsenal                             153    935000000   \n",
       "\n",
       "   net_summer_transfer_spend  retained_manager  average_attendance  wage_bill  \\\n",
       "0                   71050000             False               59989  135360000   \n",
       "1                  107150000              True               60279  118540000   \n",
       "2                   57140000              True               10000  147450000   \n",
       "3                  116250000              True               59763  114370000   \n",
       "4                  144080000              True               60186  101660000   \n",
       "\n",
       "   retained_captain  previous_season_disciplinary_points  \\\n",
       "0             False                                   67   \n",
       "1             False                                   79   \n",
       "2              True                                  108   \n",
       "3             False                                   68   \n",
       "4             False                                   72   \n",
       "\n",
       "   net_number_of_transfers  previous_season_goal_difference  \\\n",
       "0                        0                               23   \n",
       "1                       -3                               22   \n",
       "2                        5                                8   \n",
       "3                        4                               16   \n",
       "4                        1                               13   \n",
       "\n",
       "   previous_season_position  position_bin  \n",
       "0                         6             2  \n",
       "1                         5             1  \n",
       "2                         8             1  \n",
       "3                         8             2  \n",
       "4                         5             2  "
      ]
     },
     "metadata": {},
     "output_type": "display_data"
    },
    {
     "name": "stdout",
     "output_type": "stream",
     "text": [
      "Original data types:\n",
      "season_end                             object\n",
      "team                                   object\n",
      "average_distance_to_away_games          int64\n",
      "squad_value                             int64\n",
      "net_summer_transfer_spend               int64\n",
      "retained_manager                         bool\n",
      "average_attendance                      int64\n",
      "wage_bill                               int64\n",
      "retained_captain                         bool\n",
      "previous_season_disciplinary_points     int64\n",
      "net_number_of_transfers                 int64\n",
      "previous_season_goal_difference         int64\n",
      "previous_season_position                int64\n",
      "position_bin                            int64\n",
      "dtype: object\n"
     ]
    }
   ],
   "source": [
    "#  Check collected data\n",
    "\n",
    "# Define your database connection parameters\n",
    "db_username = 'postgres'\n",
    "db_password = 'postgres'\n",
    "db_host = 'localhost'\n",
    "db_port = '5432'\n",
    "db_name = 'Group 4 Project Statistics'\n",
    "db_table = 'original_data'\n",
    "\n",
    "# Create the connection string\n",
    "connection_string = f'postgresql+psycopg2://{db_username}:{db_password}@{db_host}:{db_port}/{db_name}'\n",
    "\n",
    "# Create the SQLAlchemy engine\n",
    "engine = create_engine(connection_string)\n",
    "\n",
    "# Query the data from your table\n",
    "query = f'SELECT * FROM {db_table}'\n",
    "\n",
    "# Read the data into a pandas DataFrame\n",
    "data = pd.read_sql(query, engine)\n",
    "\n",
    "# Close the connection\n",
    "engine.dispose()\n",
    "\n",
    "# Display the DataFrame\n",
    "display(data.head())\n",
    "print(\"Original data types:\")\n",
    "print(data.dtypes)"
   ]
  },
  {
   "cell_type": "code",
   "execution_count": 47,
   "id": "6327c4a0-c097-4856-99ed-096c0d718e39",
   "metadata": {},
   "outputs": [
    {
     "name": "stdout",
     "output_type": "stream",
     "text": [
      "Problematic columns: []\n",
      "Numeric features: ['average_distance_to_away_games', 'squad_value', 'net_summer_transfer_spend', 'average_attendance', 'wage_bill', 'previous_season_disciplinary_points', 'net_number_of_transfers', 'previous_season_goal_difference', 'previous_season_position', 'position_bin']\n",
      "Categorical features: ['season_end', 'team']\n"
     ]
    }
   ],
   "source": [
    "#  Preprocessing\n",
    "\n",
    "# Function to identify problematic columns\n",
    "def identify_mixed_type_columns(df):\n",
    "    mixed_type_columns = []\n",
    "    for column in df.columns:\n",
    "        if df[column].dtype == 'object':\n",
    "            try:\n",
    "                pd.to_numeric(df[column])\n",
    "            except ValueError:\n",
    "                if df[column].str.contains(',').any():  # Check if any cell contains a comma\n",
    "                    mixed_type_columns.append(column)\n",
    "    return mixed_type_columns\n",
    "\n",
    "# Identify problematic columns\n",
    "problematic_columns = identify_mixed_type_columns(data)\n",
    "print(\"Problematic columns:\", problematic_columns)\n",
    "\n",
    "# Handle problematic columns\n",
    "for column in problematic_columns:\n",
    "    data[column] = data[column].str.replace(',', '')  # Remove commas\n",
    "    data[column] = pd.to_numeric(data[column], errors='coerce')  # Convert to numeric, invalid parsing will be set as NaN\n",
    "\n",
    "# Identify numeric and categorical columns\n",
    "numeric_features = data.select_dtypes(include=['int64', 'float64']).columns.tolist()\n",
    "categorical_features = data.select_dtypes(include=['object']).columns.tolist()\n",
    "\n",
    "print(\"Numeric features:\", numeric_features)\n",
    "print(\"Categorical features:\", categorical_features)\n",
    "\n",
    "# Remove 'Position Bin' from features if it's present\n",
    "if 'Position Bin' in numeric_features:\n",
    "    numeric_features.remove('Position Bin')\n",
    "if 'Position Bin' in categorical_features:\n",
    "    categorical_features.remove('Position Bin')\n",
    "\n",
    "# Create preprocessing steps\n",
    "numeric_transformer = Pipeline(steps=[\n",
    "    ('scaler', StandardScaler())\n",
    "])\n",
    "\n",
    "categorical_transformer = Pipeline(steps=[\n",
    "    ('onehot', OneHotEncoder(drop='first', sparse=False, handle_unknown='ignore'))\n",
    "])\n",
    "\n",
    "preprocessor = ColumnTransformer(\n",
    "    transformers=[\n",
    "        ('num', numeric_transformer, numeric_features),\n",
    "        ('cat', categorical_transformer, categorical_features)\n",
    "    ])\n"
   ]
  },
  {
   "cell_type": "code",
   "execution_count": 48,
   "id": "078550a2-4129-4c69-991c-f0d09b61126b",
   "metadata": {},
   "outputs": [],
   "source": [
    "# Prepare the features and target\n",
    "\n",
    "X = data.drop('position_bin', axis=1)\n",
    "y = data['position_bin']"
   ]
  },
  {
   "cell_type": "code",
   "execution_count": 49,
   "id": "aad3b660-a403-494c-b003-9e7e824fefb9",
   "metadata": {},
   "outputs": [],
   "source": [
    "# Encode target variable\n",
    "\n",
    "le = LabelEncoder()\n",
    "y = le.fit_transform(y)"
   ]
  },
  {
   "cell_type": "code",
   "execution_count": 50,
   "id": "c2b5329c-5899-4ef8-92de-54cb7f3937de",
   "metadata": {},
   "outputs": [],
   "source": [
    "# Split the data\n",
    "\n",
    "X_train, X_test, y_train, y_test = train_test_split(X, y, test_size=0.2, random_state=42)"
   ]
  },
  {
   "cell_type": "code",
   "execution_count": 51,
   "id": "68501e36-7b0b-47c9-9c15-72a6c6651f60",
   "metadata": {},
   "outputs": [
    {
     "name": "stdout",
     "output_type": "stream",
     "text": [
      "Columns in X_train: Index(['season_end', 'team', 'average_distance_to_away_games', 'squad_value',\n",
      "       'net_summer_transfer_spend', 'retained_manager', 'average_attendance',\n",
      "       'wage_bill', 'retained_captain', 'previous_season_disciplinary_points',\n",
      "       'net_number_of_transfers', 'previous_season_goal_difference',\n",
      "       'previous_season_position'],\n",
      "      dtype='object')\n",
      "Columns in X_test: Index(['season_end', 'team', 'average_distance_to_away_games', 'squad_value',\n",
      "       'net_summer_transfer_spend', 'retained_manager', 'average_attendance',\n",
      "       'wage_bill', 'retained_captain', 'previous_season_disciplinary_points',\n",
      "       'net_number_of_transfers', 'previous_season_goal_difference',\n",
      "       'previous_season_position'],\n",
      "      dtype='object')\n"
     ]
    }
   ],
   "source": [
    "print(\"Columns in X_train:\", X_train.columns)\n",
    "print(\"Columns in X_test:\", X_test.columns)"
   ]
  },
  {
   "cell_type": "code",
   "execution_count": 52,
   "id": "3fcdc45a-1b8e-4893-82f9-178c8475f2fc",
   "metadata": {},
   "outputs": [
    {
     "name": "stdout",
     "output_type": "stream",
     "text": [
      "Actual columns in X_train: ['season_end', 'team', 'average_distance_to_away_games', 'squad_value', 'net_summer_transfer_spend', 'retained_manager', 'average_attendance', 'wage_bill', 'retained_captain', 'previous_season_disciplinary_points', 'net_number_of_transfers', 'previous_season_goal_difference', 'previous_season_position']\n",
      "Actual columns in X_test: ['season_end', 'team', 'average_distance_to_away_games', 'squad_value', 'net_summer_transfer_spend', 'retained_manager', 'average_attendance', 'wage_bill', 'retained_captain', 'previous_season_disciplinary_points', 'net_number_of_transfers', 'previous_season_goal_difference', 'previous_season_position']\n"
     ]
    }
   ],
   "source": [
    "print(\"Actual columns in X_train:\", X_train.columns.tolist())\n",
    "print(\"Actual columns in X_test:\", X_test.columns.tolist())"
   ]
  },
  {
   "cell_type": "code",
   "execution_count": 53,
   "id": "b2ed9997-a643-463e-9e7f-69d8de75ce84",
   "metadata": {},
   "outputs": [
    {
     "name": "stdout",
     "output_type": "stream",
     "text": [
      "Numeric features used in preprocessor: ['average_distance_to_away_games', 'squad_value', 'net_summer_transfer_spend', 'average_attendance', 'wage_bill', 'previous_season_disciplinary_points', 'net_number_of_transfers', 'previous_season_goal_difference', 'previous_season_position', 'position_bin']\n",
      "Categorical features used in preprocessor: ['season_end', 'team']\n"
     ]
    }
   ],
   "source": [
    "print(\"Numeric features used in preprocessor:\", numeric_features)\n",
    "print(\"Categorical features used in preprocessor:\", categorical_features)"
   ]
  },
  {
   "cell_type": "code",
   "execution_count": 54,
   "id": "6ba7405e-e27d-4053-a8af-2e48b6af6434",
   "metadata": {},
   "outputs": [
    {
     "name": "stdout",
     "output_type": "stream",
     "text": [
      "Updated numeric features: ['average_distance_to_away_games', 'squad_value', 'net_summer_transfer_spend', 'average_attendance', 'wage_bill', 'previous_season_disciplinary_points', 'net_number_of_transfers', 'previous_season_goal_difference', 'previous_season_position']\n",
      "Updated categorical features: ['season_end', 'team']\n"
     ]
    }
   ],
   "source": [
    "# Update feature lists based on actual columns\n",
    "numeric_features = [col for col in numeric_features if col in X_train.columns]\n",
    "categorical_features = [col for col in categorical_features if col in X_train.columns]\n",
    "\n",
    "print(\"Updated numeric features:\", numeric_features)\n",
    "print(\"Updated categorical features:\", categorical_features)"
   ]
  },
  {
   "cell_type": "code",
   "execution_count": 55,
   "id": "cad41209-2ad6-476a-b5fe-ca384afe1909",
   "metadata": {},
   "outputs": [],
   "source": [
    "preprocessor = ColumnTransformer(\n",
    "    transformers=[\n",
    "        ('num', numeric_transformer, numeric_features),\n",
    "        ('cat', categorical_transformer, categorical_features)\n",
    "    ])"
   ]
  },
  {
   "cell_type": "code",
   "execution_count": 56,
   "id": "028fab48-66ba-41fd-91c7-8ef4b40f42ef",
   "metadata": {},
   "outputs": [
    {
     "name": "stderr",
     "output_type": "stream",
     "text": [
      "C:\\Users\\alee\\AppData\\Local\\anaconda3\\envs\\dev\\lib\\site-packages\\sklearn\\preprocessing\\_encoders.py:972: FutureWarning: `sparse` was renamed to `sparse_output` in version 1.2 and will be removed in 1.4. `sparse_output` is ignored unless you leave `sparse` to its default value.\n",
      "  warnings.warn(\n"
     ]
    }
   ],
   "source": [
    "# Fit the preprocessor on the training data and transform both training and test data\n",
    "\n",
    "X_train_preprocessed = preprocessor.fit_transform(X_train)\n",
    "X_test_preprocessed = preprocessor.transform(X_test)"
   ]
  },
  {
   "cell_type": "code",
   "execution_count": 57,
   "id": "21eb187b-f3c6-44ff-8baa-bacadba33128",
   "metadata": {},
   "outputs": [],
   "source": [
    "# Get feature names after preprocessing\n",
    "\n",
    "onehot_encoder = preprocessor.named_transformers_['cat'].named_steps['onehot']\n",
    "cat_feature_names = onehot_encoder.get_feature_names_out(categorical_features).tolist()\n",
    "feature_names = numeric_features + cat_feature_names"
   ]
  },
  {
   "cell_type": "code",
   "execution_count": 58,
   "id": "7229b167-032c-4cec-8159-06820a64291c",
   "metadata": {},
   "outputs": [],
   "source": [
    "# Convert to DataFrames\n",
    "\n",
    "X_train_preprocessed = pd.DataFrame(X_train_preprocessed, columns=feature_names)\n",
    "X_test_preprocessed = pd.DataFrame(X_test_preprocessed, columns=feature_names)"
   ]
  },
  {
   "cell_type": "code",
   "execution_count": 59,
   "id": "39308530-eccb-46ef-87ac-407c2b08ab2a",
   "metadata": {},
   "outputs": [
    {
     "name": "stdout",
     "output_type": "stream",
     "text": [
      "Preprocessing complete. Ready for model training.\n",
      "Training set shape: (192, 41)\n",
      "Testing set shape: (48, 41)\n"
     ]
    }
   ],
   "source": [
    "print(\"Preprocessing complete. Ready for model training.\")\n",
    "print(f\"Training set shape: {X_train_preprocessed.shape}\")\n",
    "print(f\"Testing set shape: {X_test_preprocessed.shape}\")"
   ]
  },
  {
   "cell_type": "code",
   "execution_count": 60,
   "id": "cb53ca2a-6bd7-4cdc-8950-d7232bd8bf41",
   "metadata": {},
   "outputs": [
    {
     "data": {
      "text/plain": [
       "'\\nSample of preprocessed features (training set):'"
      ]
     },
     "metadata": {},
     "output_type": "display_data"
    },
    {
     "data": {
      "text/html": [
       "<div>\n",
       "<style scoped>\n",
       "    .dataframe tbody tr th:only-of-type {\n",
       "        vertical-align: middle;\n",
       "    }\n",
       "\n",
       "    .dataframe tbody tr th {\n",
       "        vertical-align: top;\n",
       "    }\n",
       "\n",
       "    .dataframe thead th {\n",
       "        text-align: right;\n",
       "    }\n",
       "</style>\n",
       "<table border=\"1\" class=\"dataframe\">\n",
       "  <thead>\n",
       "    <tr style=\"text-align: right;\">\n",
       "      <th></th>\n",
       "      <th>average_distance_to_away_games</th>\n",
       "      <th>squad_value</th>\n",
       "      <th>net_summer_transfer_spend</th>\n",
       "      <th>average_attendance</th>\n",
       "      <th>wage_bill</th>\n",
       "      <th>previous_season_disciplinary_points</th>\n",
       "      <th>net_number_of_transfers</th>\n",
       "      <th>previous_season_goal_difference</th>\n",
       "      <th>previous_season_position</th>\n",
       "      <th>season_end_2020</th>\n",
       "      <th>...</th>\n",
       "      <th>team_Newcastle</th>\n",
       "      <th>team_Norwich City</th>\n",
       "      <th>team_Nottingham Forest</th>\n",
       "      <th>team_Sheffield United</th>\n",
       "      <th>team_Southampton</th>\n",
       "      <th>team_Tottenham</th>\n",
       "      <th>team_Watford</th>\n",
       "      <th>team_West Bromwich</th>\n",
       "      <th>team_West Ham</th>\n",
       "      <th>team_Wolverhampton</th>\n",
       "    </tr>\n",
       "  </thead>\n",
       "  <tbody>\n",
       "    <tr>\n",
       "      <th>0</th>\n",
       "      <td>-0.751913</td>\n",
       "      <td>-0.603814</td>\n",
       "      <td>0.251490</td>\n",
       "      <td>-0.093316</td>\n",
       "      <td>-0.968501</td>\n",
       "      <td>0.714835</td>\n",
       "      <td>1.237803</td>\n",
       "      <td>1.249251</td>\n",
       "      <td>-1.456823</td>\n",
       "      <td>0.0</td>\n",
       "      <td>...</td>\n",
       "      <td>0.0</td>\n",
       "      <td>0.0</td>\n",
       "      <td>0.0</td>\n",
       "      <td>0.0</td>\n",
       "      <td>0.0</td>\n",
       "      <td>0.0</td>\n",
       "      <td>0.0</td>\n",
       "      <td>0.0</td>\n",
       "      <td>0.0</td>\n",
       "      <td>1.0</td>\n",
       "    </tr>\n",
       "    <tr>\n",
       "      <th>1</th>\n",
       "      <td>-1.088238</td>\n",
       "      <td>-0.031986</td>\n",
       "      <td>-0.768745</td>\n",
       "      <td>-0.049998</td>\n",
       "      <td>-0.103165</td>\n",
       "      <td>-0.775644</td>\n",
       "      <td>-0.321634</td>\n",
       "      <td>-0.159389</td>\n",
       "      <td>-0.216031</td>\n",
       "      <td>0.0</td>\n",
       "      <td>...</td>\n",
       "      <td>0.0</td>\n",
       "      <td>0.0</td>\n",
       "      <td>0.0</td>\n",
       "      <td>0.0</td>\n",
       "      <td>0.0</td>\n",
       "      <td>0.0</td>\n",
       "      <td>0.0</td>\n",
       "      <td>0.0</td>\n",
       "      <td>0.0</td>\n",
       "      <td>0.0</td>\n",
       "    </tr>\n",
       "    <tr>\n",
       "      <th>2</th>\n",
       "      <td>0.109919</td>\n",
       "      <td>-0.368859</td>\n",
       "      <td>-1.128092</td>\n",
       "      <td>-0.070722</td>\n",
       "      <td>-0.943764</td>\n",
       "      <td>0.714835</td>\n",
       "      <td>-0.633521</td>\n",
       "      <td>-0.335469</td>\n",
       "      <td>-0.038775</td>\n",
       "      <td>0.0</td>\n",
       "      <td>...</td>\n",
       "      <td>0.0</td>\n",
       "      <td>0.0</td>\n",
       "      <td>0.0</td>\n",
       "      <td>0.0</td>\n",
       "      <td>0.0</td>\n",
       "      <td>0.0</td>\n",
       "      <td>0.0</td>\n",
       "      <td>0.0</td>\n",
       "      <td>0.0</td>\n",
       "      <td>0.0</td>\n",
       "    </tr>\n",
       "    <tr>\n",
       "      <th>3</th>\n",
       "      <td>-0.646812</td>\n",
       "      <td>-0.737180</td>\n",
       "      <td>0.075131</td>\n",
       "      <td>-0.432381</td>\n",
       "      <td>-0.224457</td>\n",
       "      <td>-0.651438</td>\n",
       "      <td>-0.945408</td>\n",
       "      <td>-1.145437</td>\n",
       "      <td>0.847506</td>\n",
       "      <td>0.0</td>\n",
       "      <td>...</td>\n",
       "      <td>0.0</td>\n",
       "      <td>0.0</td>\n",
       "      <td>0.0</td>\n",
       "      <td>0.0</td>\n",
       "      <td>0.0</td>\n",
       "      <td>0.0</td>\n",
       "      <td>0.0</td>\n",
       "      <td>0.0</td>\n",
       "      <td>0.0</td>\n",
       "      <td>0.0</td>\n",
       "    </tr>\n",
       "    <tr>\n",
       "      <th>4</th>\n",
       "      <td>0.320122</td>\n",
       "      <td>-0.351407</td>\n",
       "      <td>-0.720921</td>\n",
       "      <td>0.321670</td>\n",
       "      <td>0.022330</td>\n",
       "      <td>1.770590</td>\n",
       "      <td>0.614028</td>\n",
       "      <td>-1.075005</td>\n",
       "      <td>1.202018</td>\n",
       "      <td>0.0</td>\n",
       "      <td>...</td>\n",
       "      <td>0.0</td>\n",
       "      <td>0.0</td>\n",
       "      <td>0.0</td>\n",
       "      <td>0.0</td>\n",
       "      <td>0.0</td>\n",
       "      <td>0.0</td>\n",
       "      <td>0.0</td>\n",
       "      <td>0.0</td>\n",
       "      <td>0.0</td>\n",
       "      <td>0.0</td>\n",
       "    </tr>\n",
       "  </tbody>\n",
       "</table>\n",
       "<p>5 rows × 41 columns</p>\n",
       "</div>"
      ],
      "text/plain": [
       "   average_distance_to_away_games  squad_value  net_summer_transfer_spend  \\\n",
       "0                       -0.751913    -0.603814                   0.251490   \n",
       "1                       -1.088238    -0.031986                  -0.768745   \n",
       "2                        0.109919    -0.368859                  -1.128092   \n",
       "3                       -0.646812    -0.737180                   0.075131   \n",
       "4                        0.320122    -0.351407                  -0.720921   \n",
       "\n",
       "   average_attendance  wage_bill  previous_season_disciplinary_points  \\\n",
       "0           -0.093316  -0.968501                             0.714835   \n",
       "1           -0.049998  -0.103165                            -0.775644   \n",
       "2           -0.070722  -0.943764                             0.714835   \n",
       "3           -0.432381  -0.224457                            -0.651438   \n",
       "4            0.321670   0.022330                             1.770590   \n",
       "\n",
       "   net_number_of_transfers  previous_season_goal_difference  \\\n",
       "0                 1.237803                         1.249251   \n",
       "1                -0.321634                        -0.159389   \n",
       "2                -0.633521                        -0.335469   \n",
       "3                -0.945408                        -1.145437   \n",
       "4                 0.614028                        -1.075005   \n",
       "\n",
       "   previous_season_position  season_end_2020  ...  team_Newcastle  \\\n",
       "0                 -1.456823              0.0  ...             0.0   \n",
       "1                 -0.216031              0.0  ...             0.0   \n",
       "2                 -0.038775              0.0  ...             0.0   \n",
       "3                  0.847506              0.0  ...             0.0   \n",
       "4                  1.202018              0.0  ...             0.0   \n",
       "\n",
       "   team_Norwich City  team_Nottingham Forest  team_Sheffield United  \\\n",
       "0                0.0                     0.0                    0.0   \n",
       "1                0.0                     0.0                    0.0   \n",
       "2                0.0                     0.0                    0.0   \n",
       "3                0.0                     0.0                    0.0   \n",
       "4                0.0                     0.0                    0.0   \n",
       "\n",
       "   team_Southampton  team_Tottenham  team_Watford  team_West Bromwich  \\\n",
       "0               0.0             0.0           0.0                 0.0   \n",
       "1               0.0             0.0           0.0                 0.0   \n",
       "2               0.0             0.0           0.0                 0.0   \n",
       "3               0.0             0.0           0.0                 0.0   \n",
       "4               0.0             0.0           0.0                 0.0   \n",
       "\n",
       "   team_West Ham  team_Wolverhampton  \n",
       "0            0.0                 1.0  \n",
       "1            0.0                 0.0  \n",
       "2            0.0                 0.0  \n",
       "3            0.0                 0.0  \n",
       "4            0.0                 0.0  \n",
       "\n",
       "[5 rows x 41 columns]"
      ]
     },
     "metadata": {},
     "output_type": "display_data"
    }
   ],
   "source": [
    "# Display sample of preprocessed features to verify\n",
    "\n",
    "display(\"\\nSample of preprocessed features (training set):\")\n",
    "display(X_train_preprocessed.head())"
   ]
  },
  {
   "cell_type": "code",
   "execution_count": 61,
   "id": "b5c7b779-3dc3-4ffa-b0dc-d2d0c4b2d2eb",
   "metadata": {},
   "outputs": [
    {
     "name": "stdout",
     "output_type": "stream",
     "text": [
      "\n",
      "Feature names after preprocessing:\n",
      "['average_distance_to_away_games', 'squad_value', 'net_summer_transfer_spend', 'average_attendance', 'wage_bill', 'previous_season_disciplinary_points', 'net_number_of_transfers', 'previous_season_goal_difference', 'previous_season_position', 'season_end_2020', 'season_end_2021', 'season_end_2022', 'season_end_2023', 'season_end_2024', 'team_Aston Villa', 'team_Bournemouth', 'team_Brentford', 'team_Brighton', 'team_Burnley', 'team_Cardiff', 'team_Chelsea', 'team_Crystal Palace', 'team_Everton', 'team_Fulham', 'team_Huddersfield', 'team_Leeds', 'team_Leicester', 'team_Liverpool', 'team_Luton', 'team_Manchester City', 'team_Manchester United', 'team_Newcastle', 'team_Norwich City', 'team_Nottingham Forest', 'team_Sheffield United', 'team_Southampton', 'team_Tottenham', 'team_Watford', 'team_West Bromwich', 'team_West Ham', 'team_Wolverhampton']\n"
     ]
    }
   ],
   "source": [
    "# Print feature names after preprocessing\n",
    "\n",
    "print(\"\\nFeature names after preprocessing:\")\n",
    "print(X_train_preprocessed.columns.tolist())"
   ]
  },
  {
   "cell_type": "code",
   "execution_count": 62,
   "id": "afed57a2-7333-46bf-95c3-c539f21f4c05",
   "metadata": {},
   "outputs": [
    {
     "data": {
      "text/html": [
       "<style>#sk-container-id-3 {color: black;}#sk-container-id-3 pre{padding: 0;}#sk-container-id-3 div.sk-toggleable {background-color: white;}#sk-container-id-3 label.sk-toggleable__label {cursor: pointer;display: block;width: 100%;margin-bottom: 0;padding: 0.3em;box-sizing: border-box;text-align: center;}#sk-container-id-3 label.sk-toggleable__label-arrow:before {content: \"▸\";float: left;margin-right: 0.25em;color: #696969;}#sk-container-id-3 label.sk-toggleable__label-arrow:hover:before {color: black;}#sk-container-id-3 div.sk-estimator:hover label.sk-toggleable__label-arrow:before {color: black;}#sk-container-id-3 div.sk-toggleable__content {max-height: 0;max-width: 0;overflow: hidden;text-align: left;background-color: #f0f8ff;}#sk-container-id-3 div.sk-toggleable__content pre {margin: 0.2em;color: black;border-radius: 0.25em;background-color: #f0f8ff;}#sk-container-id-3 input.sk-toggleable__control:checked~div.sk-toggleable__content {max-height: 200px;max-width: 100%;overflow: auto;}#sk-container-id-3 input.sk-toggleable__control:checked~label.sk-toggleable__label-arrow:before {content: \"▾\";}#sk-container-id-3 div.sk-estimator input.sk-toggleable__control:checked~label.sk-toggleable__label {background-color: #d4ebff;}#sk-container-id-3 div.sk-label input.sk-toggleable__control:checked~label.sk-toggleable__label {background-color: #d4ebff;}#sk-container-id-3 input.sk-hidden--visually {border: 0;clip: rect(1px 1px 1px 1px);clip: rect(1px, 1px, 1px, 1px);height: 1px;margin: -1px;overflow: hidden;padding: 0;position: absolute;width: 1px;}#sk-container-id-3 div.sk-estimator {font-family: monospace;background-color: #f0f8ff;border: 1px dotted black;border-radius: 0.25em;box-sizing: border-box;margin-bottom: 0.5em;}#sk-container-id-3 div.sk-estimator:hover {background-color: #d4ebff;}#sk-container-id-3 div.sk-parallel-item::after {content: \"\";width: 100%;border-bottom: 1px solid gray;flex-grow: 1;}#sk-container-id-3 div.sk-label:hover label.sk-toggleable__label {background-color: #d4ebff;}#sk-container-id-3 div.sk-serial::before {content: \"\";position: absolute;border-left: 1px solid gray;box-sizing: border-box;top: 0;bottom: 0;left: 50%;z-index: 0;}#sk-container-id-3 div.sk-serial {display: flex;flex-direction: column;align-items: center;background-color: white;padding-right: 0.2em;padding-left: 0.2em;position: relative;}#sk-container-id-3 div.sk-item {position: relative;z-index: 1;}#sk-container-id-3 div.sk-parallel {display: flex;align-items: stretch;justify-content: center;background-color: white;position: relative;}#sk-container-id-3 div.sk-item::before, #sk-container-id-3 div.sk-parallel-item::before {content: \"\";position: absolute;border-left: 1px solid gray;box-sizing: border-box;top: 0;bottom: 0;left: 50%;z-index: -1;}#sk-container-id-3 div.sk-parallel-item {display: flex;flex-direction: column;z-index: 1;position: relative;background-color: white;}#sk-container-id-3 div.sk-parallel-item:first-child::after {align-self: flex-end;width: 50%;}#sk-container-id-3 div.sk-parallel-item:last-child::after {align-self: flex-start;width: 50%;}#sk-container-id-3 div.sk-parallel-item:only-child::after {width: 0;}#sk-container-id-3 div.sk-dashed-wrapped {border: 1px dashed gray;margin: 0 0.4em 0.5em 0.4em;box-sizing: border-box;padding-bottom: 0.4em;background-color: white;}#sk-container-id-3 div.sk-label label {font-family: monospace;font-weight: bold;display: inline-block;line-height: 1.2em;}#sk-container-id-3 div.sk-label-container {text-align: center;}#sk-container-id-3 div.sk-container {/* jupyter's `normalize.less` sets `[hidden] { display: none; }` but bootstrap.min.css set `[hidden] { display: none !important; }` so we also need the `!important` here to be able to override the default hidden behavior on the sphinx rendered scikit-learn.org. See: https://github.com/scikit-learn/scikit-learn/issues/21755 */display: inline-block !important;position: relative;}#sk-container-id-3 div.sk-text-repr-fallback {display: none;}</style><div id=\"sk-container-id-3\" class=\"sk-top-container\"><div class=\"sk-text-repr-fallback\"><pre>RandomForestClassifier(random_state=42)</pre><b>In a Jupyter environment, please rerun this cell to show the HTML representation or trust the notebook. <br />On GitHub, the HTML representation is unable to render, please try loading this page with nbviewer.org.</b></div><div class=\"sk-container\" hidden><div class=\"sk-item\"><div class=\"sk-estimator sk-toggleable\"><input class=\"sk-toggleable__control sk-hidden--visually\" id=\"sk-estimator-id-3\" type=\"checkbox\" checked><label for=\"sk-estimator-id-3\" class=\"sk-toggleable__label sk-toggleable__label-arrow\">RandomForestClassifier</label><div class=\"sk-toggleable__content\"><pre>RandomForestClassifier(random_state=42)</pre></div></div></div></div></div>"
      ],
      "text/plain": [
       "RandomForestClassifier(random_state=42)"
      ]
     },
     "execution_count": 62,
     "metadata": {},
     "output_type": "execute_result"
    }
   ],
   "source": [
    "# Train a RandomForest model\n",
    "rf = RandomForestClassifier(random_state=42)\n",
    "rf.fit(X_train_preprocessed, y_train)"
   ]
  },
  {
   "cell_type": "code",
   "execution_count": 63,
   "id": "379760a4-6780-4b9a-b140-18aef85f99ac",
   "metadata": {},
   "outputs": [],
   "source": [
    "# Make predictions\n",
    "\n",
    "y_pred = rf.predict(X_test_preprocessed)"
   ]
  },
  {
   "cell_type": "code",
   "execution_count": 64,
   "id": "558e54cc-d5ba-4ec3-8b6f-f77ee010ac8a",
   "metadata": {},
   "outputs": [
    {
     "name": "stdout",
     "output_type": "stream",
     "text": [
      "\n",
      "Classification Report:\n",
      "              precision    recall  f1-score   support\n",
      "\n",
      "           0       0.47      0.47      0.47        15\n",
      "           1       0.29      0.27      0.28        15\n",
      "           2       0.53      0.56      0.54        18\n",
      "\n",
      "    accuracy                           0.44        48\n",
      "   macro avg       0.43      0.43      0.43        48\n",
      "weighted avg       0.43      0.44      0.43        48\n",
      "\n",
      "\n",
      "Confusion Matrix:\n",
      "[[ 7  4  4]\n",
      " [ 6  4  5]\n",
      " [ 2  6 10]]\n"
     ]
    }
   ],
   "source": [
    "# Evaluate the model\n",
    "\n",
    "print(\"\\nClassification Report:\")\n",
    "print(classification_report(y_test, y_pred))\n",
    "\n",
    "print(\"\\nConfusion Matrix:\")\n",
    "print(confusion_matrix(y_test, y_pred))"
   ]
  },
  {
   "cell_type": "code",
   "execution_count": 65,
   "id": "c7f4bc79-b284-47d4-af44-1896ba7df592",
   "metadata": {},
   "outputs": [
    {
     "data": {
      "image/png": "[encoded data removed]",
      "text/plain": [
       "<Figure size 1000x700 with 2 Axes>"
      ]
     },
     "metadata": {},
     "output_type": "display_data"
    }
   ],
   "source": [
    "# Visualize the confusion matrix\n",
    "\n",
    "plt.figure(figsize=(10, 7))\n",
    "conf_matrix = confusion_matrix(y_test, y_pred)\n",
    "plt.imshow(conf_matrix, cmap='coolwarm', interpolation='none')\n",
    "plt.colorbar()\n",
    "plt.title('Confusion Matrix')\n",
    "plt.xlabel('Predicted')\n",
    "plt.ylabel('Actual')\n",
    "plt.show()"
   ]
  },
  {
   "cell_type": "code",
   "execution_count": 66,
   "id": "cb0d122a-d36c-4757-b39b-6df7fcc79f5d",
   "metadata": {},
   "outputs": [
    {
     "name": "stdout",
     "output_type": "stream",
     "text": [
      "\n",
      "Top 10 Most Important Features:\n",
      "   Importance                              Feature\n",
      "0    0.095508                   average_attendance\n",
      "1    0.094127      previous_season_goal_difference\n",
      "2    0.093626                          squad_value\n",
      "3    0.093309       average_distance_to_away_games\n",
      "4    0.089826             previous_season_position\n",
      "5    0.086913                            wage_bill\n",
      "6    0.086910  previous_season_disciplinary_points\n",
      "7    0.086318            net_summer_transfer_spend\n",
      "8    0.072146              net_number_of_transfers\n",
      "9    0.026436                      season_end_2022\n"
     ]
    },
    {
     "data": {
      "text/plain": [
       "<Figure size 1000x600 with 0 Axes>"
      ]
     },
     "metadata": {},
     "output_type": "display_data"
    },
    {
     "data": {
      "image/png": "[encoded data removed]",
      "text/plain": [
       "<Figure size 640x480 with 1 Axes>"
      ]
     },
     "metadata": {},
     "output_type": "display_data"
    }
   ],
   "source": [
    "# Get feature importances\n",
    "\n",
    "importances = rf.feature_importances_\n",
    "feature_imp = pd.DataFrame(sorted(zip(importances, X_train_preprocessed.columns), reverse=True), \n",
    "                           columns=['Importance', 'Feature'])\n",
    "\n",
    "# Display top 10 most important features\n",
    "\n",
    "print(\"\\nTop 10 Most Important Features:\")\n",
    "print(feature_imp.head(10))\n",
    "\n",
    "# Visualize feature importances\n",
    "\n",
    "plt.figure(figsize=(10, 6))\n",
    "feature_imp.head(10).plot(x='Feature', y='Importance', kind='bar')\n",
    "plt.title('Top 10 Feature Importances')\n",
    "plt.tight_layout()\n",
    "plt.show()"
   ]
  },
  {
   "cell_type": "code",
   "execution_count": null,
   "id": "cc3bf3ce-d008-44d9-886b-d6a30a76e869",
   "metadata": {},
   "outputs": [],
   "source": []
  }
 ],
 "metadata": {
  "kernelspec": {
   "display_name": "Python 3 (ipykernel)",
   "language": "python",
   "name": "python3"
  },
  "language_info": {
   "codemirror_mode": {
    "name": "ipython",
    "version": 3
   },
   "file_extension": ".py",
   "mimetype": "text/x-python",
   "name": "python",
   "nbconvert_exporter": "python",
   "pygments_lexer": "ipython3",
   "version": "3.10.13"
  },
  "widgets": {
   "application/vnd.jupyter.widget-state+json": {
    "state": {},
    "version_major": 2,
    "version_minor": 0
   }
  }
 },
 "nbformat": 4,
 "nbformat_minor": 5
}
